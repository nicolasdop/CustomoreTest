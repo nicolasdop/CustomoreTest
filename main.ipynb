{
 "cells": [
  {
   "cell_type": "code",
   "execution_count": 90,
   "metadata": {},
   "outputs": [],
   "source": [
    "import requests\n",
    "import json\n",
    "import time"
   ]
  },
  {
   "cell_type": "code",
   "execution_count": 105,
   "metadata": {},
   "outputs": [],
   "source": [
    "class WebScraper():\n",
    "\n",
    "    def __init__(self, apiKey = 'd5a45936c03454b7e98aa0a4f9e45e4a', enable_dollar_conversion = True) -> None:\n",
    "        \n",
    "        self.apiKey = apiKey\n",
    "        self.country_to_ext = {\"malasya\": \"my\", \"singapore\": \"sg\", \"vietnam\": \"vn\", \"thailand\": \"th\", \"indonesia\": \"id\"}\n",
    "        self.country_to_curr = {\"Malasya\": \"MYR\", \"Singapore\": \"SGD\", \"Vietnam\": \"VND\", \"Thailand\": \"THB\", \"Indonesia\": \"IDR\"}\n",
    "        self.enable_dollar_conversion = enable_dollar_conversion\n",
    "        if self.enable_dollar_conversion:\n",
    "            with open(\"./utils/exchange_rates.json\", \"r\") as f:\n",
    "                self.conversion_rates = json.load(f)\n",
    "\n",
    "    @staticmethod\n",
    "    def all_finished(statuses):\n",
    "\n",
    "        return statuses == ['finished']*len(statuses)\n",
    "\n",
    "    @staticmethod\n",
    "    def find_ind_not_finished(statuses):\n",
    "\n",
    "        inds = []\n",
    "        for i, status in enumerate(statuses):\n",
    "            if status != 'finished':\n",
    "                inds.append(i)\n",
    "        return inds\n",
    "\n",
    "    def update_conversion_rate(self):\n",
    "        base_url = \"https://fxds-public-exchange-rates-api.oanda.com/cc-api/currencies?base=[CURR]&quote=USD&data_type=general_currency_pair&start_date=2023-02-12&end_date=2023-02-13\"\n",
    "        r = requests.post(url = 'https://async.scraperapi.com/batchjobs', json={ 'apiKey': self.apiKey, 'urls': [base_url.replace(\"[CURR]\", curr) for curr in self.country_to_curr.values()]})\n",
    "        time.sleep(3)\n",
    "        responses = [requests.get(url = res[\"statusUrl\"]) for res in r.json()]\n",
    "        statuses = [resp.json()[\"status\"] for resp in responses]\n",
    "        i = 0\n",
    "        while i < 10 and not WebScraper.all_finished(statuses):\n",
    "            i += 1\n",
    "            time.sleep(2)\n",
    "            inds_to_rerun = WebScraper.find_ind_not_finished(statuses)\n",
    "            for ind in inds_to_rerun:\n",
    "                responses[ind] = requests.get(url = r.json()[ind][\"statusUrl\"])\n",
    "            statuses = [resp.json()[\"status\"] for resp in responses]\n",
    "        assert(i != 10), \"oops, it doesn't seem to work for now, please try again later.\"\n",
    "        values = [resp.json()[\"response\"][\"body\"][\"response\"][0][\"average_bid\"] for resp in responses]\n",
    "        self.conversion_rates = {key: value for key, value in zip(self.country_to_curr.keys(), values)}\n",
    "        with open(\"./utils/exchange_rates.json\", \"w\") as f:\n",
    "            json.dump(self.conversion_rates, f)\n",
    "\n",
    "    def get_seller_data(self, shopid, country, filter_sold_out=0, chunk_size=100):\n",
    "        \n",
    "        assert(country.lower() in [\"malasya\", \"singapore\", \"vietnam\", \"thailand\", \"indonesia\"]), 'The provided country should be one of the following countries : \"Malasya\", \"Singapore\", \"Vietnam\", \"Thailand\" or \"Indonesia\".'\n",
    "        assert(type(shopid)==int), f\"The shopid should be an integer. you provided a value of type {type(shopid)}.\"\n",
    "\n",
    "        base_url = f'https://shopee.{self.country_to_ext[country.lower()]}/api/v4/shop/search_items?filter_sold_out={filter_sold_out}&limit={chunk_size}&offset=0&order=desc&shopid={shopid}&sort_by=pop&use_case=4'\n",
    "\n",
    "        r = requests.post(url = 'https://async.scraperapi.com/jobs', json={ 'apiKey': self.apiKey, 'url': base_url})\n",
    "        time.sleep(3)\n",
    "        response = requests.get(url = r.json()[\"statusUrl\"])\n",
    "        status = response.json()[\"status\"]\n",
    "        i = 0\n",
    "        while i < 10 and status != 'finished':\n",
    "            i += 1\n",
    "            time.sleep(2)\n",
    "            response = requests.get(url = r.json()[\"statusUrl\"])\n",
    "            status = response.json()[\"status\"]\n",
    "        return response"
   ]
  },
  {
   "cell_type": "code",
   "execution_count": 106,
   "metadata": {},
   "outputs": [],
   "source": [
    "ws = WebScraper()"
   ]
  },
  {
   "cell_type": "code",
   "execution_count": 107,
   "metadata": {},
   "outputs": [],
   "source": [
    "resp = ws.get_seller_data(shopid=33697514, country=\"indonesia\")"
   ]
  },
  {
   "cell_type": "code",
   "execution_count": 110,
   "metadata": {},
   "outputs": [
    {
     "data": {
      "text/plain": [
       "{'id': '88a28d16-6c4c-4fe7-a5e3-ca257d8ba8d9',\n",
       " 'status': 'running',\n",
       " 'statusUrl': 'https://async.scraperapi.com/jobs/88a28d16-6c4c-4fe7-a5e3-ca257d8ba8d9',\n",
       " 'url': 'https://shopee.id/api/v4/shop/search_items?filter_sold_out=0&limit=100&offset=0&order=desc&shopid=33697514&sort_by=pop&use_case=4'}"
      ]
     },
     "execution_count": 110,
     "metadata": {},
     "output_type": "execute_result"
    }
   ],
   "source": [
    "resp.json()"
   ]
  }
 ],
 "metadata": {
  "kernelspec": {
   "display_name": "scraper",
   "language": "python",
   "name": "python3"
  },
  "language_info": {
   "codemirror_mode": {
    "name": "ipython",
    "version": 3
   },
   "file_extension": ".py",
   "mimetype": "text/x-python",
   "name": "python",
   "nbconvert_exporter": "python",
   "pygments_lexer": "ipython3",
   "version": "3.10.9"
  },
  "orig_nbformat": 4,
  "vscode": {
   "interpreter": {
    "hash": "64258227473d116139dbb6b5218c9c3a84fe0c1c4090ccbd01f3513a9e14c46a"
   }
  }
 },
 "nbformat": 4,
 "nbformat_minor": 2
}
