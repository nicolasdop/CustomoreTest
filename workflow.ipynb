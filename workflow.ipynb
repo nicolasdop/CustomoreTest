{
 "cells": [
  {
   "attachments": {},
   "cell_type": "markdown",
   "metadata": {},
   "source": [
    "# This notebook illustrates how to use the WebScraper class to scrape shopee"
   ]
  },
  {
   "attachments": {},
   "cell_type": "markdown",
   "metadata": {},
   "source": [
    "* Imports"
   ]
  },
  {
   "cell_type": "code",
   "execution_count": 1,
   "metadata": {},
   "outputs": [],
   "source": [
    "import sys\n",
    "sys.path.append(\"..\")\n",
    "\n",
    "from src.webscraper import WebScraper\n",
    "\n",
    "%load_ext autoreload\n",
    "%autoreload 2"
   ]
  },
  {
   "attachments": {},
   "cell_type": "markdown",
   "metadata": {},
   "source": [
    "* Instantiate WebScraper object"
   ]
  },
  {
   "cell_type": "code",
   "execution_count": 21,
   "metadata": {},
   "outputs": [],
   "source": [
    "ws = WebScraper() "
   ]
  },
  {
   "attachments": {},
   "cell_type": "markdown",
   "metadata": {},
   "source": [
    "* Extract data from a given shopid and country\n",
    "* data will be saved in a the folder data/raw for raw data and data/parsed for parsed data."
   ]
  },
  {
   "cell_type": "code",
   "execution_count": 22,
   "metadata": {},
   "outputs": [
    {
     "name": "stdout",
     "output_type": "stream",
     "text": [
      "157 items detected. Fetching all data\n",
      "extraction was succesfull!\n",
      "raw data saved under the name: 'all-items-raw-shopid-36618696-country-malasya-2023-02-14.json'\n",
      "parsed data saved under the name: 'all-items-parsed-shopid-36618696-country-malasya-2023-02-14.csv'\n"
     ]
    }
   ],
   "source": [
    "ws.get_seller_data(shopid=36618696, country=\"malasya\")"
   ]
  }
 ],
 "metadata": {
  "kernelspec": {
   "display_name": "scraper",
   "language": "python",
   "name": "python3"
  },
  "language_info": {
   "codemirror_mode": {
    "name": "ipython",
    "version": 3
   },
   "file_extension": ".py",
   "mimetype": "text/x-python",
   "name": "python",
   "nbconvert_exporter": "python",
   "pygments_lexer": "ipython3",
   "version": "3.10.9"
  },
  "orig_nbformat": 4,
  "vscode": {
   "interpreter": {
    "hash": "64258227473d116139dbb6b5218c9c3a84fe0c1c4090ccbd01f3513a9e14c46a"
   }
  }
 },
 "nbformat": 4,
 "nbformat_minor": 2
}
